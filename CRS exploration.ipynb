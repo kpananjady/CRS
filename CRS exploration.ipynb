{
 "cells": [
  {
   "cell_type": "markdown",
   "metadata": {},
   "source": [
    "# What this file does"
   ]
  },
  {
   "cell_type": "markdown",
   "metadata": {},
   "source": [
    "I am just checking CRS ratings for the communities I was looking at based on the most recent FEMA data; in the accompanying and coumented python file and run some descriptive stats code on the database. 2019 CRS data from here: https://www.fema.gov/media-library/assets/documents/180273"
   ]
  },
  {
   "cell_type": "markdown",
   "metadata": {},
   "source": [
    "# CRS"
   ]
  },
  {
   "cell_type": "code",
   "execution_count": 1,
   "metadata": {},
   "outputs": [],
   "source": [
    "import pandas as pd"
   ]
  },
  {
   "cell_type": "code",
   "execution_count": 2,
   "metadata": {},
   "outputs": [
    {
     "name": "stdout",
     "output_type": "stream",
     "text": [
      "CRS exploration.ipynb CRS_2016.csv          CRS_2019.csv\r\n"
     ]
    }
   ],
   "source": [
    "!ls"
   ]
  },
  {
   "cell_type": "code",
   "execution_count": 3,
   "metadata": {},
   "outputs": [],
   "source": [
    "df= pd.read_csv('CRS_2019.csv')"
   ]
  },
  {
   "cell_type": "code",
   "execution_count": null,
   "metadata": {},
   "outputs": [],
   "source": [
    "#Little Egg Harbor "
   ]
  },
  {
   "cell_type": "code",
   "execution_count": 4,
   "metadata": {},
   "outputs": [
    {
     "data": {
      "text/html": [
       "<div>\n",
       "<style scoped>\n",
       "    .dataframe tbody tr th:only-of-type {\n",
       "        vertical-align: middle;\n",
       "    }\n",
       "\n",
       "    .dataframe tbody tr th {\n",
       "        vertical-align: top;\n",
       "    }\n",
       "\n",
       "    .dataframe thead th {\n",
       "        text-align: right;\n",
       "    }\n",
       "</style>\n",
       "<table border=\"1\" class=\"dataframe\">\n",
       "  <thead>\n",
       "    <tr style=\"text-align: right;\">\n",
       "      <th></th>\n",
       "      <th>State</th>\n",
       "      <th>Community_Number</th>\n",
       "      <th>Community_Name</th>\n",
       "      <th>CRS_Entry_Date</th>\n",
       "      <th>Current_Effective_Date</th>\n",
       "      <th>Current_Class</th>\n",
       "      <th>%_Discount</th>\n",
       "      <th>%_Discount_Non</th>\n",
       "      <th>Status</th>\n",
       "    </tr>\n",
       "  </thead>\n",
       "  <tbody>\n",
       "    <tr>\n",
       "      <td>25</td>\n",
       "      <td>NJ</td>\n",
       "      <td>340007</td>\n",
       "      <td>Egg Harbor, Township of</td>\n",
       "      <td>10/1/2017</td>\n",
       "      <td>10/1/2017</td>\n",
       "      <td>5</td>\n",
       "      <td>25</td>\n",
       "      <td>10</td>\n",
       "      <td>C</td>\n",
       "    </tr>\n",
       "    <tr>\n",
       "      <td>41</td>\n",
       "      <td>NJ</td>\n",
       "      <td>340380</td>\n",
       "      <td>Little Egg Harbor, Township of</td>\n",
       "      <td>5/1/2018</td>\n",
       "      <td>5/1/2018</td>\n",
       "      <td>6</td>\n",
       "      <td>20</td>\n",
       "      <td>10</td>\n",
       "      <td>C</td>\n",
       "    </tr>\n",
       "  </tbody>\n",
       "</table>\n",
       "</div>"
      ],
      "text/plain": [
       "   State  Community_Number                  Community_Name CRS_Entry_Date  \\\n",
       "25    NJ            340007         Egg Harbor, Township of      10/1/2017   \n",
       "41    NJ            340380  Little Egg Harbor, Township of       5/1/2018   \n",
       "\n",
       "   Current_Effective_Date  Current_Class  %_Discount  %_Discount_Non Status  \n",
       "25              10/1/2017              5          25              10      C  \n",
       "41               5/1/2018              6          20              10      C  "
      ]
     },
     "execution_count": 4,
     "metadata": {},
     "output_type": "execute_result"
    }
   ],
   "source": [
    "df[df['Community_Name'].str.contains('Egg')==True]"
   ]
  },
  {
   "cell_type": "code",
   "execution_count": null,
   "metadata": {},
   "outputs": [],
   "source": [
    "#Sayreville"
   ]
  },
  {
   "cell_type": "code",
   "execution_count": 5,
   "metadata": {},
   "outputs": [
    {
     "data": {
      "text/html": [
       "<div>\n",
       "<style scoped>\n",
       "    .dataframe tbody tr th:only-of-type {\n",
       "        vertical-align: middle;\n",
       "    }\n",
       "\n",
       "    .dataframe tbody tr th {\n",
       "        vertical-align: top;\n",
       "    }\n",
       "\n",
       "    .dataframe thead th {\n",
       "        text-align: right;\n",
       "    }\n",
       "</style>\n",
       "<table border=\"1\" class=\"dataframe\">\n",
       "  <thead>\n",
       "    <tr style=\"text-align: right;\">\n",
       "      <th></th>\n",
       "      <th>State</th>\n",
       "      <th>Community_Number</th>\n",
       "      <th>Community_Name</th>\n",
       "      <th>CRS_Entry_Date</th>\n",
       "      <th>Current_Effective_Date</th>\n",
       "      <th>Current_Class</th>\n",
       "      <th>%_Discount</th>\n",
       "      <th>%_Discount_Non</th>\n",
       "      <th>Status</th>\n",
       "    </tr>\n",
       "  </thead>\n",
       "  <tbody>\n",
       "  </tbody>\n",
       "</table>\n",
       "</div>"
      ],
      "text/plain": [
       "Empty DataFrame\n",
       "Columns: [State, Community_Number, Community_Name, CRS_Entry_Date, Current_Effective_Date, Current_Class, %_Discount, %_Discount_Non, Status]\n",
       "Index: []"
      ]
     },
     "execution_count": 5,
     "metadata": {},
     "output_type": "execute_result"
    }
   ],
   "source": [
    "df[df['Community_Name'].str.contains('Sayreville')==True]"
   ]
  },
  {
   "cell_type": "code",
   "execution_count": null,
   "metadata": {},
   "outputs": [],
   "source": [
    "#sayreville"
   ]
  },
  {
   "cell_type": "code",
   "execution_count": 6,
   "metadata": {},
   "outputs": [
    {
     "data": {
      "text/html": [
       "<div>\n",
       "<style scoped>\n",
       "    .dataframe tbody tr th:only-of-type {\n",
       "        vertical-align: middle;\n",
       "    }\n",
       "\n",
       "    .dataframe tbody tr th {\n",
       "        vertical-align: top;\n",
       "    }\n",
       "\n",
       "    .dataframe thead th {\n",
       "        text-align: right;\n",
       "    }\n",
       "</style>\n",
       "<table border=\"1\" class=\"dataframe\">\n",
       "  <thead>\n",
       "    <tr style=\"text-align: right;\">\n",
       "      <th></th>\n",
       "      <th>State</th>\n",
       "      <th>Community_Number</th>\n",
       "      <th>Community_Name</th>\n",
       "      <th>CRS_Entry_Date</th>\n",
       "      <th>Current_Effective_Date</th>\n",
       "      <th>Current_Class</th>\n",
       "      <th>%_Discount</th>\n",
       "      <th>%_Discount_Non</th>\n",
       "      <th>Status</th>\n",
       "    </tr>\n",
       "  </thead>\n",
       "  <tbody>\n",
       "    <tr>\n",
       "      <td>102</td>\n",
       "      <td>NJ</td>\n",
       "      <td>345327</td>\n",
       "      <td>Wayne, Township of</td>\n",
       "      <td>10/1/1991</td>\n",
       "      <td>5/1/2015</td>\n",
       "      <td>7</td>\n",
       "      <td>15</td>\n",
       "      <td>5</td>\n",
       "      <td>C</td>\n",
       "    </tr>\n",
       "  </tbody>\n",
       "</table>\n",
       "</div>"
      ],
      "text/plain": [
       "    State  Community_Number      Community_Name CRS_Entry_Date  \\\n",
       "102    NJ            345327  Wayne, Township of      10/1/1991   \n",
       "\n",
       "    Current_Effective_Date  Current_Class  %_Discount  %_Discount_Non Status  \n",
       "102               5/1/2015              7          15               5      C  "
      ]
     },
     "execution_count": 6,
     "metadata": {},
     "output_type": "execute_result"
    }
   ],
   "source": [
    "df[df['Community_Name'].str.contains('Wayne')==True]"
   ]
  },
  {
   "cell_type": "code",
   "execution_count": 31,
   "metadata": {},
   "outputs": [
    {
     "data": {
      "text/plain": [
       "<matplotlib.axes._subplots.AxesSubplot at 0x112257850>"
      ]
     },
     "execution_count": 31,
     "metadata": {},
     "output_type": "execute_result"
    },
    {
     "data": {
      "image/png": "[encoded data removed]",
      "text/plain": [
       "<Figure size 432x288 with 1 Axes>"
      ]
     },
     "metadata": {
      "needs_background": "light"
     },
     "output_type": "display_data"
    }
   ],
   "source": [
    "df['Current_Class'].value_counts(normalize=True,sort=False).plot(kind='bar')"
   ]
  },
  {
   "cell_type": "code",
   "execution_count": 33,
   "metadata": {},
   "outputs": [
    {
     "data": {
      "text/plain": [
       "<bound method NDFrame.describe of     State  Community_Number               Community_Name CRS_Entry_Date  \\\n",
       "0      NJ            340312        Aberdeen, Township of       5/1/2010   \n",
       "1      NJ            340001             Absecon, City of      10/1/2014   \n",
       "2      NJ            345278       Atlantic City, City of      10/1/1992   \n",
       "3      NJ            345279           Avalon, Borough of      10/1/1996   \n",
       "4      NJ            340287  Avon-by-the-Sea, Borough of      10/1/2016   \n",
       "..    ...               ...                          ...            ...   \n",
       "104    NJ            340081         Westwood, Borough of      10/1/2016   \n",
       "105    NJ            345329            Wildwood, City of       5/1/2016   \n",
       "106    NJ            345330   Wildwood Crest, Borough of      10/1/1993   \n",
       "107    NJ            345331      Woodbridge, Township of       5/1/2019   \n",
       "108    NJ            340412    Woodland Park, Borough of      10/1/2016   \n",
       "\n",
       "    Current_Effective_Date  Current_Class  %_Discount  %_Discount_Non Status  \n",
       "0                10/1/2015              8          10               5      C  \n",
       "1                10/1/2014              8          10               5      C  \n",
       "2                 5/1/2018              6          20              10      C  \n",
       "3                10/1/2013              5          25              10      C  \n",
       "4                10/1/2016              6          20              10      C  \n",
       "..                     ...            ...         ...             ...    ...  \n",
       "104              10/1/2016              8          10               5      C  \n",
       "105               5/1/2018              5          25              10      C  \n",
       "106               5/1/2014              6          20              10      C  \n",
       "107               5/1/2019              6          20              10      C  \n",
       "108              10/1/2016              8          10               5     C   \n",
       "\n",
       "[109 rows x 9 columns]>"
      ]
     },
     "execution_count": 33,
     "metadata": {},
     "output_type": "execute_result"
    }
   ],
   "source": [
    "df.describe"
   ]
  },
  {
   "cell_type": "code",
   "execution_count": 34,
   "metadata": {},
   "outputs": [
    {
     "data": {
      "text/html": [
       "<div>\n",
       "<style scoped>\n",
       "    .dataframe tbody tr th:only-of-type {\n",
       "        vertical-align: middle;\n",
       "    }\n",
       "\n",
       "    .dataframe tbody tr th {\n",
       "        vertical-align: top;\n",
       "    }\n",
       "\n",
       "    .dataframe thead th {\n",
       "        text-align: right;\n",
       "    }\n",
       "</style>\n",
       "<table border=\"1\" class=\"dataframe\">\n",
       "  <thead>\n",
       "    <tr style=\"text-align: right;\">\n",
       "      <th></th>\n",
       "      <th>State</th>\n",
       "      <th>Community_Number</th>\n",
       "      <th>Community_Name</th>\n",
       "      <th>CRS_Entry_Date</th>\n",
       "      <th>Current_Effective_Date</th>\n",
       "      <th>Current_Class</th>\n",
       "      <th>%_Discount</th>\n",
       "      <th>%_Discount_Non</th>\n",
       "      <th>Status</th>\n",
       "    </tr>\n",
       "  </thead>\n",
       "  <tbody>\n",
       "    <tr>\n",
       "      <td>0</td>\n",
       "      <td>NJ</td>\n",
       "      <td>340312</td>\n",
       "      <td>Aberdeen, Township of</td>\n",
       "      <td>5/1/2010</td>\n",
       "      <td>10/1/2015</td>\n",
       "      <td>8</td>\n",
       "      <td>10</td>\n",
       "      <td>5</td>\n",
       "      <td>C</td>\n",
       "    </tr>\n",
       "    <tr>\n",
       "      <td>1</td>\n",
       "      <td>NJ</td>\n",
       "      <td>340001</td>\n",
       "      <td>Absecon, City of</td>\n",
       "      <td>10/1/2014</td>\n",
       "      <td>10/1/2014</td>\n",
       "      <td>8</td>\n",
       "      <td>10</td>\n",
       "      <td>5</td>\n",
       "      <td>C</td>\n",
       "    </tr>\n",
       "    <tr>\n",
       "      <td>2</td>\n",
       "      <td>NJ</td>\n",
       "      <td>345278</td>\n",
       "      <td>Atlantic City, City of</td>\n",
       "      <td>10/1/1992</td>\n",
       "      <td>5/1/2018</td>\n",
       "      <td>6</td>\n",
       "      <td>20</td>\n",
       "      <td>10</td>\n",
       "      <td>C</td>\n",
       "    </tr>\n",
       "    <tr>\n",
       "      <td>3</td>\n",
       "      <td>NJ</td>\n",
       "      <td>345279</td>\n",
       "      <td>Avalon, Borough of</td>\n",
       "      <td>10/1/1996</td>\n",
       "      <td>10/1/2013</td>\n",
       "      <td>5</td>\n",
       "      <td>25</td>\n",
       "      <td>10</td>\n",
       "      <td>C</td>\n",
       "    </tr>\n",
       "    <tr>\n",
       "      <td>4</td>\n",
       "      <td>NJ</td>\n",
       "      <td>340287</td>\n",
       "      <td>Avon-by-the-Sea, Borough of</td>\n",
       "      <td>10/1/2016</td>\n",
       "      <td>10/1/2016</td>\n",
       "      <td>6</td>\n",
       "      <td>20</td>\n",
       "      <td>10</td>\n",
       "      <td>C</td>\n",
       "    </tr>\n",
       "    <tr>\n",
       "      <td>...</td>\n",
       "      <td>...</td>\n",
       "      <td>...</td>\n",
       "      <td>...</td>\n",
       "      <td>...</td>\n",
       "      <td>...</td>\n",
       "      <td>...</td>\n",
       "      <td>...</td>\n",
       "      <td>...</td>\n",
       "      <td>...</td>\n",
       "    </tr>\n",
       "    <tr>\n",
       "      <td>104</td>\n",
       "      <td>NJ</td>\n",
       "      <td>340081</td>\n",
       "      <td>Westwood, Borough of</td>\n",
       "      <td>10/1/2016</td>\n",
       "      <td>10/1/2016</td>\n",
       "      <td>8</td>\n",
       "      <td>10</td>\n",
       "      <td>5</td>\n",
       "      <td>C</td>\n",
       "    </tr>\n",
       "    <tr>\n",
       "      <td>105</td>\n",
       "      <td>NJ</td>\n",
       "      <td>345329</td>\n",
       "      <td>Wildwood, City of</td>\n",
       "      <td>5/1/2016</td>\n",
       "      <td>5/1/2018</td>\n",
       "      <td>5</td>\n",
       "      <td>25</td>\n",
       "      <td>10</td>\n",
       "      <td>C</td>\n",
       "    </tr>\n",
       "    <tr>\n",
       "      <td>106</td>\n",
       "      <td>NJ</td>\n",
       "      <td>345330</td>\n",
       "      <td>Wildwood Crest, Borough of</td>\n",
       "      <td>10/1/1993</td>\n",
       "      <td>5/1/2014</td>\n",
       "      <td>6</td>\n",
       "      <td>20</td>\n",
       "      <td>10</td>\n",
       "      <td>C</td>\n",
       "    </tr>\n",
       "    <tr>\n",
       "      <td>107</td>\n",
       "      <td>NJ</td>\n",
       "      <td>345331</td>\n",
       "      <td>Woodbridge, Township of</td>\n",
       "      <td>5/1/2019</td>\n",
       "      <td>5/1/2019</td>\n",
       "      <td>6</td>\n",
       "      <td>20</td>\n",
       "      <td>10</td>\n",
       "      <td>C</td>\n",
       "    </tr>\n",
       "    <tr>\n",
       "      <td>108</td>\n",
       "      <td>NJ</td>\n",
       "      <td>340412</td>\n",
       "      <td>Woodland Park, Borough of</td>\n",
       "      <td>10/1/2016</td>\n",
       "      <td>10/1/2016</td>\n",
       "      <td>8</td>\n",
       "      <td>10</td>\n",
       "      <td>5</td>\n",
       "      <td>C</td>\n",
       "    </tr>\n",
       "  </tbody>\n",
       "</table>\n",
       "<p>109 rows × 9 columns</p>\n",
       "</div>"
      ],
      "text/plain": [
       "    State  Community_Number               Community_Name CRS_Entry_Date  \\\n",
       "0      NJ            340312        Aberdeen, Township of       5/1/2010   \n",
       "1      NJ            340001             Absecon, City of      10/1/2014   \n",
       "2      NJ            345278       Atlantic City, City of      10/1/1992   \n",
       "3      NJ            345279           Avalon, Borough of      10/1/1996   \n",
       "4      NJ            340287  Avon-by-the-Sea, Borough of      10/1/2016   \n",
       "..    ...               ...                          ...            ...   \n",
       "104    NJ            340081         Westwood, Borough of      10/1/2016   \n",
       "105    NJ            345329            Wildwood, City of       5/1/2016   \n",
       "106    NJ            345330   Wildwood Crest, Borough of      10/1/1993   \n",
       "107    NJ            345331      Woodbridge, Township of       5/1/2019   \n",
       "108    NJ            340412    Woodland Park, Borough of      10/1/2016   \n",
       "\n",
       "    Current_Effective_Date  Current_Class  %_Discount  %_Discount_Non Status  \n",
       "0                10/1/2015              8          10               5      C  \n",
       "1                10/1/2014              8          10               5      C  \n",
       "2                 5/1/2018              6          20              10      C  \n",
       "3                10/1/2013              5          25              10      C  \n",
       "4                10/1/2016              6          20              10      C  \n",
       "..                     ...            ...         ...             ...    ...  \n",
       "104              10/1/2016              8          10               5      C  \n",
       "105               5/1/2018              5          25              10      C  \n",
       "106               5/1/2014              6          20              10      C  \n",
       "107               5/1/2019              6          20              10      C  \n",
       "108              10/1/2016              8          10               5     C   \n",
       "\n",
       "[109 rows x 9 columns]"
      ]
     },
     "execution_count": 34,
     "metadata": {},
     "output_type": "execute_result"
    }
   ],
   "source": [
    "df"
   ]
  },
  {
   "cell_type": "code",
   "execution_count": null,
   "metadata": {},
   "outputs": [],
   "source": [
    "#Avalon"
   ]
  },
  {
   "cell_type": "code",
   "execution_count": 35,
   "metadata": {},
   "outputs": [
    {
     "data": {
      "text/html": [
       "<div>\n",
       "<style scoped>\n",
       "    .dataframe tbody tr th:only-of-type {\n",
       "        vertical-align: middle;\n",
       "    }\n",
       "\n",
       "    .dataframe tbody tr th {\n",
       "        vertical-align: top;\n",
       "    }\n",
       "\n",
       "    .dataframe thead th {\n",
       "        text-align: right;\n",
       "    }\n",
       "</style>\n",
       "<table border=\"1\" class=\"dataframe\">\n",
       "  <thead>\n",
       "    <tr style=\"text-align: right;\">\n",
       "      <th></th>\n",
       "      <th>State</th>\n",
       "      <th>Community_Number</th>\n",
       "      <th>Community_Name</th>\n",
       "      <th>CRS_Entry_Date</th>\n",
       "      <th>Current_Effective_Date</th>\n",
       "      <th>Current_Class</th>\n",
       "      <th>%_Discount</th>\n",
       "      <th>%_Discount_Non</th>\n",
       "      <th>Status</th>\n",
       "    </tr>\n",
       "  </thead>\n",
       "  <tbody>\n",
       "    <tr>\n",
       "      <td>3</td>\n",
       "      <td>NJ</td>\n",
       "      <td>345279</td>\n",
       "      <td>Avalon, Borough of</td>\n",
       "      <td>10/1/1996</td>\n",
       "      <td>10/1/2013</td>\n",
       "      <td>5</td>\n",
       "      <td>25</td>\n",
       "      <td>10</td>\n",
       "      <td>C</td>\n",
       "    </tr>\n",
       "  </tbody>\n",
       "</table>\n",
       "</div>"
      ],
      "text/plain": [
       "  State  Community_Number      Community_Name CRS_Entry_Date  \\\n",
       "3    NJ            345279  Avalon, Borough of      10/1/1996   \n",
       "\n",
       "  Current_Effective_Date  Current_Class  %_Discount  %_Discount_Non Status  \n",
       "3              10/1/2013              5          25              10      C  "
      ]
     },
     "execution_count": 35,
     "metadata": {},
     "output_type": "execute_result"
    }
   ],
   "source": [
    "df[df['Community_Name'].str.contains('Avalon')==True]"
   ]
  },
  {
   "cell_type": "code",
   "execution_count": null,
   "metadata": {},
   "outputs": [],
   "source": []
  }
 ],
 "metadata": {
  "kernelspec": {
   "display_name": "Python 3",
   "language": "python",
   "name": "python3"
  },
  "language_info": {
   "codemirror_mode": {
    "name": "ipython",
    "version": 3
   },
   "file_extension": ".py",
   "mimetype": "text/x-python",
   "name": "python",
   "nbconvert_exporter": "python",
   "pygments_lexer": "ipython3",
   "version": "3.7.5"
  }
 },
 "nbformat": 4,
 "nbformat_minor": 2
}
